{
  "cells": [
    // ... your cells unchanged ...
  ],
  "metadata": {
    "accelerator": "GPU",
    "colab": {
      "gpuType": "T4",
      "provenance": []
    },
    "kernelspec": {
      "display_name": "Python 3",
      "name": "python3"
    },
    "language_info": {
      "name": "python"
    }
    // widgets removed for compatibility
  },
  "nbformat": 4,
  "nbformat_minor": 0
}
